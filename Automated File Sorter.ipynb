{
 "cells": [
  {
   "cell_type": "code",
   "execution_count": 1,
   "id": "955f8b18",
   "metadata": {},
   "outputs": [],
   "source": [
    "import os, shutil"
   ]
  },
  {
   "cell_type": "code",
   "execution_count": 5,
   "id": "7dc41808",
   "metadata": {},
   "outputs": [],
   "source": [
    "path = r\"C:/Users/SHREYA/Downloads/Python/\""
   ]
  },
  {
   "cell_type": "code",
   "execution_count": 6,
   "id": "fe248efd",
   "metadata": {},
   "outputs": [],
   "source": [
    "file_name = os.listdir(path)"
   ]
  },
  {
   "cell_type": "code",
   "execution_count": 7,
   "id": "59f46dbf",
   "metadata": {},
   "outputs": [],
   "source": [
    "folder_names = ['Image files','Excel files','Text files']"
   ]
  },
  {
   "cell_type": "code",
   "execution_count": 17,
   "id": "7683b29b",
   "metadata": {},
   "outputs": [],
   "source": [
    "# Creating folders\n",
    "\n",
    "for loop in range(0,3):\n",
    "    if not os.path.exists(path+folder_names[loop]):\n",
    "        os.makedirs(path+folder_names[loop])\n",
    "        \n",
    "# Moving files into folders\n",
    "        \n",
    "for file in file_name:\n",
    "    if \".jpg\" in file and not os.path.exists(path+\"Image files/\"+file):\n",
    "        shutil.move(path+file, path+\"Image files/\"+file)\n",
    "    elif \".xlsx\" in file and not os.path.exists(path+\"Excel files/\"+file):\n",
    "        shutil.move(path+file, path+\"Excel files/\"+file)\n",
    "    elif \".txt\" in file and not os.path.exists(path+\"Text files/\"+file):\n",
    "        shutil.move(path+file, path+\"Text files/\"+file)"
   ]
  },
  {
   "cell_type": "code",
   "execution_count": 16,
   "id": "06c1d07c",
   "metadata": {},
   "outputs": [],
   "source": []
  },
  {
   "cell_type": "code",
   "execution_count": null,
   "id": "65932555",
   "metadata": {},
   "outputs": [],
   "source": []
  },
  {
   "cell_type": "code",
   "execution_count": null,
   "id": "9b316f94",
   "metadata": {},
   "outputs": [],
   "source": []
  },
  {
   "cell_type": "code",
   "execution_count": null,
   "id": "4e02adea",
   "metadata": {},
   "outputs": [],
   "source": []
  },
  {
   "cell_type": "code",
   "execution_count": null,
   "id": "789a9ed0",
   "metadata": {},
   "outputs": [],
   "source": []
  },
  {
   "cell_type": "code",
   "execution_count": null,
   "id": "24a1fae3",
   "metadata": {},
   "outputs": [],
   "source": []
  },
  {
   "cell_type": "code",
   "execution_count": null,
   "id": "4fe15218",
   "metadata": {},
   "outputs": [],
   "source": []
  },
  {
   "cell_type": "code",
   "execution_count": null,
   "id": "1a512284",
   "metadata": {},
   "outputs": [],
   "source": []
  },
  {
   "cell_type": "code",
   "execution_count": null,
   "id": "afb80cc5",
   "metadata": {},
   "outputs": [],
   "source": []
  },
  {
   "cell_type": "code",
   "execution_count": null,
   "id": "2a59b697",
   "metadata": {},
   "outputs": [],
   "source": []
  },
  {
   "cell_type": "code",
   "execution_count": null,
   "id": "a492f77d",
   "metadata": {},
   "outputs": [],
   "source": []
  }
 ],
 "metadata": {
  "kernelspec": {
   "display_name": "Python 3 (ipykernel)",
   "language": "python",
   "name": "python3"
  },
  "language_info": {
   "codemirror_mode": {
    "name": "ipython",
    "version": 3
   },
   "file_extension": ".py",
   "mimetype": "text/x-python",
   "name": "python",
   "nbconvert_exporter": "python",
   "pygments_lexer": "ipython3",
   "version": "3.10.9"
  }
 },
 "nbformat": 4,
 "nbformat_minor": 5
}
